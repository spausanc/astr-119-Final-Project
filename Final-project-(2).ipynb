{
 "cells": [
  {
   "cell_type": "markdown",
   "metadata": {},
   "source": [
    "y = Theta\n",
    "\n",
    "x = time\n",
    "\n",
    "z = omega(angular velocity)\n",
    "\n",
    "a = acceleration\n",
    "\n",
    "--------------------------\n",
    "\n",
    "\n",
    "g(x,y) is the derivative dy/dx\n",
    "\n",
    "h is the stepsize\n",
    "\n",
    "f_i is the value of y(x_i), so\n",
    "\n",
    "f_ipo is the value of y(x_ipo)."
   ]
  },
  {
   "cell_type": "code",
   "execution_count": null,
   "metadata": {},
   "outputs": [],
   "source": [
    "%matplotlib inline\n",
    "import matplotlib.pyplot as plt\n",
    "import numpy as np"
   ]
  },
  {
   "cell_type": "markdown",
   "metadata": {},
   "source": [
    "## Define our coupled derivatives to integrate"
   ]
  },
  {
   "cell_type": "code",
   "execution_count": null,
   "metadata": {},
   "outputs": [],
   "source": [
    "def dydx(x, y): #A, B, C, D):\n",
    "    \n",
    "    # Set the derivatives\n",
    "    \n",
    "    # Our equation is d^2y/dx^2 = -A*sin(y)-B*z+C*sin(D*x)\n",
    "    \n",
    "    # So we can write\n",
    "    #z = dydx\n",
    "    #dzdx = -A*sin(y)-B*z+C*sin(D*x) = a\n",
    "    \n",
    "    # We will set a = y[0]\n",
    "    # we will set z = y[1]\n",
    "    \n",
    "    # Declare an array\n",
    "    y_derivs = np.zeros(2)\n",
    "    \n",
    "    # Set dydx = z\n",
    "    y_derivs[0] = y[1]\n",
    "    \n",
    "    # Set dy^2dx^2 = a\n",
    "    y_derivs[1] = -1*np.sin(y[0]) -0*y[1] + 2/3*np.sin(0*x)\n",
    "    \n",
    "    # Here we have to return an array\n",
    "    return y_derivs\n"
   ]
  },
  {
   "cell_type": "markdown",
   "metadata": {},
   "source": [
    "x is an array, how do we calculate y_derivs[1] for each value of x? do we have to set a loop? wouldn't that make y_derivs an array of len > 2?"
   ]
  },
  {
   "cell_type": "markdown",
   "metadata": {},
   "source": [
    "## Define the 4th order RK method"
   ]
  },
  {
   "cell_type": "code",
   "execution_count": null,
   "metadata": {},
   "outputs": [],
   "source": [
    "def rk4_mv_core(dydx, xi, yi, nv, h):\n",
    "    \n",
    "    # Declare k? arrays\n",
    "    k1 = np.zeros(nv)\n",
    "    k2 = np.zeros(nv)\n",
    "    k3 = np.zeros(nv)\n",
    "    k4 = np.zeros(nv)\n",
    "    \n",
    "    # Define x at 1/2 step\n",
    "    x_ipoh = xi +0.5*h\n",
    "    \n",
    "    # Define x at 1 step\n",
    "    x_ipo = xi + h\n",
    "    \n",
    "    # Declare a temporary arrayy \n",
    "    y_temp = np.zeros (nv)\n",
    "    \n",
    "    # Get k1 values\n",
    "    y_derivs = dydx(xi, yi)\n",
    "    k1[:] = h*y_derivs[:]\n",
    "    \n",
    "    # Get k2 values\n",
    "    y_temp[:] = yi[:] + 0.5*k1[:]\n",
    "    y_derivs = dydx(x_ipoh, y_temp)\n",
    "    k2[:] = h*y_derivs[:]\n",
    "    \n",
    "    # Get k3 values\n",
    "    y_temp[:] = yi[:] + 0.5*k2[:]\n",
    "    y_derivs = dydx(x_ipoh, y_temp)\n",
    "    k3[:] = h*y_derivs[:]\n",
    "    \n",
    "    # Get k4 values\n",
    "    y_temp[:] = yi[:] + k3[:]\n",
    "    y_derivs = dydx(x_ipo, y_temp) #Why ipo and not ipoh?\n",
    "    k4[:] = h*y_derivs[:]\n",
    "    \n",
    "    # Advance y by a step h\n",
    "    yipo = yi + (k1 +2*k2 + 2*k3 + k4)/6.\n",
    "    \n",
    "    return yipo"
   ]
  },
  {
   "cell_type": "markdown",
   "metadata": {},
   "source": [
    "This script will be able to create its own pairs to compare their values, and to keep updating the size of its steps, to get a more accurate approximation\n",
    "\n",
    "For a 1d array, : means \"all the elements\", so we don't ned a for loop to go through each f them. "
   ]
  },
  {
   "cell_type": "markdown",
   "metadata": {},
   "source": [
    "## Define an adaptive step size driver for RK4"
   ]
  },
  {
   "cell_type": "code",
   "execution_count": null,
   "metadata": {},
   "outputs": [],
   "source": [
    "def rk4_mv_ad(dydx, x_i, y_i, nv, h, tol):\n",
    "\n",
    "    #define safetyscale\n",
    "    SAFETY = .9\n",
    "    H_NEW_FAC = 2.\n",
    "    \n",
    "    #Set a maximum number of iterations\n",
    "    imax = 10000\n",
    "    \n",
    "    #Set an iteration varale\n",
    "    i = 0\n",
    "    \n",
    "    #Create an error\n",
    "    Delta = np.full(nv, 2*tol)\n",
    "    \n",
    "    #Remember the step\n",
    "    h_step = h\n",
    "    \n",
    "    #Adjust the step\n",
    "    while (Delta.max()/tol > 1.0):\n",
    "        # Estimate our error by taking one step of size  h\n",
    "        #vs. two steps of the size h/2\n",
    "        y_2 = rk4_mv_core(dydx, x_i, y_i, nv, h_step)\n",
    "        y_1 = rk4_mv_core(dydx, x_i, y_i, nv, 0.5*h_step)\n",
    "        y_11 = rk4_mv_core(dydx, x_i+0.5*h_step, y_1, nv, 0.5*h_step)\n",
    "        \n",
    "        \n",
    "        # Always try to make every step bigger than the other,\n",
    "        #but they are always correlated, not just an array of\n",
    "        #numbers together\n",
    "        \n",
    "        #Compute an error\n",
    "        Delta = np.fabs(y_2 - y_11)\n",
    "        \n",
    "        # If the error is too large, take a smaller step\n",
    "        if (Delta.max()/tol > 1.0):\n",
    "            #our error is too large, degrease the step\n",
    "            h_step *= SAFETY * (Delta.max()/tol)**(-0.25)\n",
    "         \n",
    "        #Check iteration\n",
    "        if(i >= imax):\n",
    "            print ('Too may iteratctions in rk4_mv_ad()')\n",
    "            raise StopIteration (\"Ending after i =\", i)\n",
    "            \n",
    "        #iterate\n",
    "        i += 1\n",
    "        \n",
    "    #next time, try to take a bigger step\n",
    "    h_new = np.fmin(h_step * (Delta.max()/tol)**(-0.9), h_step*H_NEW_FAC)\n",
    "    \n",
    "    #Return the answer, a new stap, and the step we actually took\n",
    "    return y_2, h_new, h_step"
   ]
  },
  {
   "cell_type": "markdown",
   "metadata": {},
   "source": [
    "Slide 16: instead of dfdx, is dydx\n",
    "\n",
    "h_new can never be too big, the while loop keeps taking the minimum, or a apropriate value\n",
    "\n",
    "h serves for increasing integration, or decreasing. if a>b, it regresses, giving negative values, So h changes appropriately to avoid oberflowig?"
   ]
  },
  {
   "cell_type": "markdown",
   "metadata": {},
   "source": [
    "## Defne a wrapper for RK4"
   ]
  },
  {
   "cell_type": "markdown",
   "metadata": {},
   "source": [
    "rk4_mv returns two arrays: x and y, with the respective values obtained from the \"integration\""
   ]
  },
  {
   "cell_type": "code",
   "execution_count": null,
   "metadata": {},
   "outputs": [],
   "source": [
    "def rk4_mv(dydx, a, b, y_a, tol):\n",
    "    \n",
    "    #dfdx is the derivative wrt x \n",
    "    #a is the lower bound\n",
    "    #b is the upper bound\n",
    "    #y_a are the boundary conditions\n",
    "    #tol is the tolerance for integrating y\n",
    "    \n",
    "    #define our starting step\n",
    "    xi = a\n",
    "    yi = y_a.copy()\n",
    "    \n",
    "    #an initial step size == make very small\n",
    "    h = 1.0e-4 * (b-a)\n",
    "    \n",
    "    #set max number of iterations\n",
    "    imax = 10000\n",
    "    \n",
    "    #Set an iteration variable\n",
    "    i = 0\n",
    "    \n",
    "    #Set the number of coupled odes to the\n",
    "    #size of y_a\n",
    "    nv = len(y_a)\n",
    "    \n",
    "    #Set the initial conditions\n",
    "    x = np.full(1,a)\n",
    "    y = np.full((1, nv), y_a)\n",
    "    \n",
    "    #Set a flag\n",
    "    flag = 1\n",
    "    \n",
    "    #Loop until we reach the right side\n",
    "    while(flag):\n",
    "        #caluclate y_i + 1\n",
    "        yi_new, h_new, h_step = rk4_mv_ad(dydx, xi, yi, nv, h, tol)\n",
    "        \n",
    "        #Update the step\n",
    "        h = h_new\n",
    "        \n",
    "        #Prevent an overshoot\n",
    "        if(xi+h_step > b):\n",
    "            \n",
    "            #take a smaller step\n",
    "            h = b-xi\n",
    "            \n",
    "            #recalculate y_i+1\n",
    "            yi_new, h_new, h_step = rk4_mv_ad(dydx, xi, yi, nv, h, tol)\n",
    "            \n",
    "            #break\n",
    "            flag = 0\n",
    "            \n",
    "        #Update values\n",
    "        xi += h_step\n",
    "        yi[:] = yi_new[:]\n",
    "        \n",
    "        #add the step to the arrays\n",
    "        x = np. append(x, xi)\n",
    "        y_new = np.zeros((len(x), nv))\n",
    "        y_new[0:len(x) - 1, :] = y\n",
    "        y_new[-1, :] = yi[:]\n",
    "        del y\n",
    "        y = y_new\n",
    "        \n",
    "        #Prevent too many interactions\n",
    "        if(i >= imax):\n",
    "            print(\"MAximum iterations reachd.\")\n",
    "            raise StopIteration(\"Iteration number = \", i)\n",
    "            \n",
    "        #iterate\n",
    "        i += 1\n",
    "        \n",
    "        #output some information\n",
    "        s = \"i = %3d\\tx = %9.8f\\th = %9.8f\\tb=%9.8f\" % (i, xi, h_step, b)\n",
    "        print(s)\n",
    "        \n",
    "        #Break if new xi is == b\n",
    "        if (xi == b):\n",
    "            flag = 0\n",
    "            \n",
    "    #return the answer\n",
    "    return x, y   \n",
    "    "
   ]
  },
  {
   "cell_type": "markdown",
   "metadata": {},
   "source": [
    "## Perform the integration"
   ]
  },
  {
   "cell_type": "code",
   "execution_count": null,
   "metadata": {},
   "outputs": [],
   "source": [
    "a = 0.0\n",
    "b = 100.\n",
    "\n",
    "#A\n",
    "#B\n",
    "#C\n",
    "#D\n",
    "\n",
    "\n",
    "y_0 = np.zeros(2)\n",
    "y_0[0] = 0.0\n",
    "y_0[1] = 1.0\n",
    "nv = 2\n",
    "\n",
    "tolerance = 1.0e-6\n",
    "\n",
    "#Perform the integration\n",
    "x, y = rk4_mv(dydx, a, b, y_0, tolerance)"
   ]
  },
  {
   "cell_type": "markdown",
   "metadata": {},
   "source": [
    "## Plot the result"
   ]
  },
  {
   "cell_type": "code",
   "execution_count": null,
   "metadata": {},
   "outputs": [],
   "source": [
    "f, axarr = plt.subplots(3,1, figsize=(10,12))\n",
    "\n",
    "axarr[0].plot(x, y[:,0], '-', label='y(x)')\n",
    "\n",
    "axarr[0].set_xlabel('x')\n",
    "axarr[0].set_ylabel('y, dy/dx')\n",
    "axarr[0].set_title('angle v. time', color='C0')\n",
    "axarr[0].axis()\n",
    "#axarr[0].set_aspect(100)\n",
    "\n",
    "axarr[1].plot(x, y[:,1], '-', color='orange', label='dydx(x)')\n",
    "axarr[1].set_xlabel('x')\n",
    "axarr[1].set_ylabel('dy^2/dx^2')\n",
    "axarr[1].set_title('speed v. time', color='C1')\n",
    "\n",
    "axarr[2].plot(y[:,1], y[:,0], '-', color='green', label='omega(theta)')\n",
    "\n",
    "axarr[2].set_xlabel('theta')\n",
    "axarr[2].set_ylabel('omega, dy/dx')\n",
    "axarr[2].set_title('speed v. angle', color='C2')\n",
    "\n",
    "f.subplots_adjust(wspace = 1.0)\n",
    "#fig = plt.figure(figsize = (6,6))\n"
   ]
  },
  {
   "cell_type": "markdown",
   "metadata": {},
   "source": [
    "## Plot the error"
   ]
  },
  {
   "cell_type": "markdown",
   "metadata": {},
   "source": [
    "Notice that the errors will actually exceed our \"tolerance\"."
   ]
  },
  {
   "cell_type": "code",
   "execution_count": null,
   "metadata": {},
   "outputs": [],
   "source": [
    "sine = np.sin(x)\n",
    "cosine = np.cos(x)\n",
    "\n",
    "y_error = (y[:,0] - sine)\n",
    "dydx_error = (y[:,1] - cosine)\n",
    "\n",
    "plt.plot(x, y_error, label='y(x) Error')\n",
    "plt.plot(x, dydx_error, label=\"dydx(x) Error\")\n",
    "plt.legend(frameon=False)"
   ]
  },
  {
   "cell_type": "code",
   "execution_count": null,
   "metadata": {},
   "outputs": [],
   "source": []
  }
 ],
 "metadata": {
  "kernelspec": {
   "display_name": "Python 3",
   "language": "python",
   "name": "python3"
  },
  "language_info": {
   "codemirror_mode": {
    "name": "ipython",
    "version": 3
   },
   "file_extension": ".py",
   "mimetype": "text/x-python",
   "name": "python",
   "nbconvert_exporter": "python",
   "pygments_lexer": "ipython3",
   "version": "3.6.5"
  }
 },
 "nbformat": 4,
 "nbformat_minor": 2
}
